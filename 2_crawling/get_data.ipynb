{
 "cells": [
  {
   "cell_type": "markdown",
   "id": "0cf1551b",
   "metadata": {},
   "source": [
    "## 데이터 수집 \n",
    "\n",
    "### 1단계. 라이브러리 설치"
   ]
  },
  {
   "cell_type": "code",
   "execution_count": null,
   "id": "513c0e5e",
   "metadata": {},
   "outputs": [
    {
     "name": "stdout",
     "output_type": "stream",
     "text": [
      "Requirement already satisfied: selenium in c:\\users\\administrator\\appdata\\local\\programs\\python\\python312\\lib\\site-packages (4.34.2)\n",
      "Requirement already satisfied: webdriver-manager in c:\\users\\administrator\\appdata\\local\\programs\\python\\python312\\lib\\site-packages (4.0.2)\n",
      "Requirement already satisfied: urllib3~=2.5.0 in c:\\users\\administrator\\appdata\\local\\programs\\python\\python312\\lib\\site-packages (from urllib3[socks]~=2.5.0->selenium) (2.5.0)\n",
      "Requirement already satisfied: trio~=0.30.0 in c:\\users\\administrator\\appdata\\local\\programs\\python\\python312\\lib\\site-packages (from selenium) (0.30.0)\n",
      "Requirement already satisfied: trio-websocket~=0.12.2 in c:\\users\\administrator\\appdata\\local\\programs\\python\\python312\\lib\\site-packages (from selenium) (0.12.2)\n",
      "Requirement already satisfied: certifi>=2025.6.15 in c:\\users\\administrator\\appdata\\local\\programs\\python\\python312\\lib\\site-packages (from selenium) (2025.7.14)\n",
      "Requirement already satisfied: typing_extensions~=4.14.0 in c:\\users\\administrator\\appdata\\local\\programs\\python\\python312\\lib\\site-packages (from selenium) (4.14.1)\n",
      "Requirement already satisfied: websocket-client~=1.8.0 in c:\\users\\administrator\\appdata\\local\\programs\\python\\python312\\lib\\site-packages (from selenium) (1.8.0)\n",
      "Requirement already satisfied: requests in c:\\users\\administrator\\appdata\\local\\programs\\python\\python312\\lib\\site-packages (from webdriver-manager) (2.32.4)\n",
      "Requirement already satisfied: python-dotenv in c:\\users\\administrator\\appdata\\local\\programs\\python\\python312\\lib\\site-packages (from webdriver-manager) (1.1.1)\n",
      "Requirement already satisfied: packaging in c:\\users\\administrator\\appdata\\roaming\\python\\python312\\site-packages (from webdriver-manager) (25.0)\n",
      "Requirement already satisfied: attrs>=23.2.0 in c:\\users\\administrator\\appdata\\local\\programs\\python\\python312\\lib\\site-packages (from trio~=0.30.0->selenium) (25.3.0)\n",
      "Requirement already satisfied: sortedcontainers in c:\\users\\administrator\\appdata\\local\\programs\\python\\python312\\lib\\site-packages (from trio~=0.30.0->selenium) (2.4.0)\n",
      "Requirement already satisfied: idna in c:\\users\\administrator\\appdata\\local\\programs\\python\\python312\\lib\\site-packages (from trio~=0.30.0->selenium) (3.10)\n",
      "Requirement already satisfied: outcome in c:\\users\\administrator\\appdata\\local\\programs\\python\\python312\\lib\\site-packages (from trio~=0.30.0->selenium) (1.3.0.post0)\n",
      "Requirement already satisfied: sniffio>=1.3.0 in c:\\users\\administrator\\appdata\\local\\programs\\python\\python312\\lib\\site-packages (from trio~=0.30.0->selenium) (1.3.1)\n",
      "Requirement already satisfied: cffi>=1.14 in c:\\users\\administrator\\appdata\\local\\programs\\python\\python312\\lib\\site-packages (from trio~=0.30.0->selenium) (1.17.1)\n",
      "Requirement already satisfied: wsproto>=0.14 in c:\\users\\administrator\\appdata\\local\\programs\\python\\python312\\lib\\site-packages (from trio-websocket~=0.12.2->selenium) (1.2.0)\n",
      "Requirement already satisfied: pysocks!=1.5.7,<2.0,>=1.5.6 in c:\\users\\administrator\\appdata\\local\\programs\\python\\python312\\lib\\site-packages (from urllib3[socks]~=2.5.0->selenium) (1.7.1)\n",
      "Requirement already satisfied: charset_normalizer<4,>=2 in c:\\users\\administrator\\appdata\\local\\programs\\python\\python312\\lib\\site-packages (from requests->webdriver-manager) (3.4.2)\n",
      "Requirement already satisfied: pycparser in c:\\users\\administrator\\appdata\\local\\programs\\python\\python312\\lib\\site-packages (from cffi>=1.14->trio~=0.30.0->selenium) (2.22)\n",
      "Requirement already satisfied: h11<1,>=0.9.0 in c:\\users\\administrator\\appdata\\local\\programs\\python\\python312\\lib\\site-packages (from wsproto>=0.14->trio-websocket~=0.12.2->selenium) (0.16.0)\n",
      "Note: you may need to restart the kernel to use updated packages.\n"
     ]
    },
    {
     "name": "stderr",
     "output_type": "stream",
     "text": [
      "\n",
      "[notice] A new release of pip is available: 25.0.1 -> 25.1.1\n",
      "[notice] To update, run: python.exe -m pip install --upgrade pip\n"
     ]
    }
   ],
   "source": [
    "%pip install selenium webdriver-manager\n",
    "# 파이썬 라이브러리 설치"
   ]
  },
  {
   "cell_type": "code",
   "execution_count": 7,
   "id": "bf05f3c5",
   "metadata": {},
   "outputs": [
    {
     "data": {
      "text/plain": [
       "'C:\\\\Users\\\\Administrator\\\\.wdm\\\\drivers\\\\chromedriver\\\\win64\\\\138.0.7204.94\\\\chromedriver-win32/chromedriver.exe'"
      ]
     },
     "execution_count": 7,
     "metadata": {},
     "output_type": "execute_result"
    }
   ],
   "source": [
    "from webdriver_manager.chrome import ChromeDriverManager\n",
    "ChromeDriverManager().install()"
   ]
  },
  {
   "cell_type": "code",
   "execution_count": 10,
   "id": "560e5970",
   "metadata": {},
   "outputs": [],
   "source": [
    "from selenium import webdriver\n",
    "browser = webdriver.Chrome()"
   ]
  },
  {
   "cell_type": "code",
   "execution_count": 27,
   "id": "1c4dea98",
   "metadata": {},
   "outputs": [],
   "source": [
    "browser.get(\"http://land.naver.com\")"
   ]
  },
  {
   "cell_type": "code",
   "execution_count": 29,
   "id": "adfbafb8",
   "metadata": {},
   "outputs": [
    {
     "data": {
      "text/plain": [
       "'22.5°'"
      ]
     },
     "execution_count": 29,
     "metadata": {},
     "output_type": "execute_result"
    }
   ],
   "source": [
    "from selenium.webdriver.common.by import By\n",
    "browser.get(\"https://weather.naver.com/\")\n",
    "browser.find_element(By.CLASS_NAME, 'card_now_temperature').text\n"
   ]
  },
  {
   "cell_type": "code",
   "execution_count": 25,
   "id": "0459f9b4",
   "metadata": {},
   "outputs": [
    {
     "data": {
      "text/plain": [
       "'기흥구 마북동'"
      ]
     },
     "execution_count": 25,
     "metadata": {},
     "output_type": "execute_result"
    }
   ],
   "source": [
    "#미션 : 현재 위치 데이터 가져오기\n",
    "\n",
    "browser.find_element(By.CLASS_NAME, 'location_name').text\n"
   ]
  },
  {
   "cell_type": "markdown",
   "id": "9ea4390e",
   "metadata": {},
   "source": [
    "### 네이버 부동산 호가 데이터 전체 수집\n"
   ]
  },
  {
   "cell_type": "code",
   "execution_count": 42,
   "id": "21d57780",
   "metadata": {},
   "outputs": [
    {
     "data": {
      "text/plain": [
       "'네이버페이 부동산'"
      ]
     },
     "execution_count": 42,
     "metadata": {},
     "output_type": "execute_result"
    }
   ],
   "source": [
    "from selenium.webdriver.common.by import By\n",
    "browser = webdriver.Chrome()\n",
    "url = 'https://new.land.naver.com/complexes/106922?ms=37.3946689,127.1126793,16&a=APT:PRE:ABYG:JGC&e=RETAIL'\n",
    "browser.get(url)\n",
    "browser.title"
   ]
  },
  {
   "cell_type": "code",
   "execution_count": 49,
   "id": "030d5d50",
   "metadata": {},
   "outputs": [
    {
     "name": "stdout",
     "output_type": "stream",
     "text": [
      "매매22억 5,000\n",
      "매매22억 5,000\n",
      "매매35억\n",
      "전세15억\n",
      "매매22억 5,000\n",
      "매매35억\n",
      "월세1억/450\n",
      "월세1억/450\n",
      "매매30억\n",
      "매매27억 5,000\n",
      "매매30억\n",
      "매매30억\n",
      "매매34억\n",
      "월세1억/650\n",
      "월세1억/650\n",
      "전세15억\n",
      "매매34억\n",
      "월세1억/450\n",
      "매매34억\n",
      "매매30억\n"
     ]
    }
   ],
   "source": [
    "from selenium.webdriver.common.by import By\n",
    "datas = browser.find_elements(By.CLASS_NAME, 'price_line')\n",
    "\n",
    "for data in datas:\n",
    "    print(data.text)"
   ]
  },
  {
   "cell_type": "code",
   "execution_count": 60,
   "id": "b530c605",
   "metadata": {},
   "outputs": [
    {
     "name": "stdout",
     "output_type": "stream",
     "text": [
      "Requirement already satisfied: pandas in c:\\users\\administrator\\appdata\\local\\programs\\python\\python312\\lib\\site-packages (2.3.1)\n",
      "Requirement already satisfied: numpy>=1.26.0 in c:\\users\\administrator\\appdata\\local\\programs\\python\\python312\\lib\\site-packages (from pandas) (2.3.1)\n",
      "Requirement already satisfied: python-dateutil>=2.8.2 in c:\\users\\administrator\\appdata\\roaming\\python\\python312\\site-packages (from pandas) (2.9.0.post0)\n",
      "Requirement already satisfied: pytz>=2020.1 in c:\\users\\administrator\\appdata\\local\\programs\\python\\python312\\lib\\site-packages (from pandas) (2025.2)\n",
      "Requirement already satisfied: tzdata>=2022.7 in c:\\users\\administrator\\appdata\\local\\programs\\python\\python312\\lib\\site-packages (from pandas) (2025.2)\n",
      "Requirement already satisfied: six>=1.5 in c:\\users\\administrator\\appdata\\roaming\\python\\python312\\site-packages (from python-dateutil>=2.8.2->pandas) (1.17.0)\n",
      "Note: you may need to restart the kernel to use updated packages.\n"
     ]
    },
    {
     "name": "stderr",
     "output_type": "stream",
     "text": [
      "\n",
      "[notice] A new release of pip is available: 25.0.1 -> 25.1.1\n",
      "[notice] To update, run: python.exe -m pip install --upgrade pip\n"
     ]
    }
   ],
   "source": [
    "%pip install pandas"
   ]
  },
  {
   "cell_type": "code",
   "execution_count": 62,
   "id": "eab56622",
   "metadata": {},
   "outputs": [
    {
     "name": "stdout",
     "output_type": "stream",
     "text": [
      "집주인알파리움1단지(주상복합) 101동 아파트123B/96m², 10/18층, 남서향\n",
      "37. 입주가능, 화랑공원뷰, 풀옵션 \n",
      " 매매22억 5,000\n",
      "\n",
      "집주인알파리움1단지(주상복합) 101동 아파트123B/96m², 10/18층, 남서향\n",
      "37 짧은세안고 풀옵션 일조량풍부 화랑공원뷰 \n",
      " 매매22억 5,000\n",
      "\n",
      "집주인알파리움1단지(주상복합) 102동 아파트180/142m², 중/18층, 남향\n",
      "특올수리, 정남향, 전망최고, 세안고 \n",
      " 매매35억\n",
      "\n",
      "집주인알파리움1단지(주상복합) 103동 아파트156A/123m², 저/18층, 남향\n",
      "남향. 정원뷰.시스템에어컨.지하창고유.주택상태깔끔 \n",
      " 전세15억\n",
      "\n",
      "집주인알파리움1단지(주상복합) 101동 아파트123B/96m², 중/18층, 남서향\n",
      "37. 남서향, 단지정원, 화랑공원전망 \n",
      " 매매22억 5,000\n",
      "\n",
      "집주인알파리움1단지(주상복합) 102동 아파트180/142m², 중/18층, 남향\n",
      "54 방4.최근 화이트인테리어.계절창고.짧은세안고매매 \n",
      " 매매35억\n",
      "\n",
      "집주인알파리움1단지(주상복합) 101동 아파트123B/96m², 고/18층, 남동향\n",
      "입주가능.입주협의. 전망좋음. 채광좋음. 깔끔한집 \n",
      " 월세1억/450\n",
      "\n",
      "집주인알파리움1단지(주상복합) 101동 아파트123B/96m², 고/18층, 남동향\n",
      "37. 융자없음, 깨끗하게 관리 잘 된 집, 오래 거주 가능 \n",
      " 월세1억/450\n",
      "\n",
      "집주인알파리움1단지(주상복합) 103동 아파트156A/123m², 중/18층, 남향\n",
      "47 남향 단지조경조망 채광좋음 풀시스템에어컨 입주가능 \n",
      " 매매30억\n",
      "\n",
      "집주인알파리움1단지(주상복합) 104동 아파트140/110m², 중/19층, 서향\n",
      "판교공원전망좋은집 판교ic이용편리 정상입주 \n",
      " 매매27억 5,000\n",
      "\n",
      "집주인알파리움1단지(주상복합) 103동 아파트163C/129m², 고/18층, 남향\n",
      "49 세안고 방4개 공원전망최고 채광좋음 풀시스템에어컨 \n",
      " 매매30억\n",
      "\n",
      "집주인알파리움1단지(주상복합) 102동 아파트180/142m², 저/18층, 남향\n",
      "입주협의 방4 정남향 조망채광굿 주택상태매우깨끗 \n",
      " 매매30억\n",
      "\n",
      "집주인알파리움1단지(주상복합) 105동 아파트180/142m², 중/18층, 남향\n",
      "빠른입주가 입주협의 정남향 특올수리 생활소음조용 판교역초역세권 \n",
      " 매매34억\n",
      "\n",
      "집주인알파리움1단지(주상복합) 104동 아파트156A/123m², 중/19층, 남향\n",
      "47A. 특인테리어, 붙박이장 잘됨, 보증금 조정가능 \n",
      " 월세1억/650\n",
      "\n",
      "집주인알파리움1단지(주상복합) 104동 아파트156A/123m², 중/19층, 남향\n",
      "입주협의 올수리 볕잘드는남향 시스템에어컨 풀옵션 창고 식기세척기 \n",
      " 월세1억/650\n",
      "\n",
      "집주인알파리움1단지(주상복합) 103동 아파트156A/123m², 저/18층, 남향\n",
      "남향, 정원뷰 조용한 집, 인테리어 깔끔, 융자없음, 오래거주가능 \n",
      " 전세15억\n",
      "\n",
      "집주인알파리움1단지(주상복합) 105동 아파트180/142m², 중/18층, 남향\n",
      "알파리움1단지 로얄동 로얄층 컨디션 좋은 리모델링 세대 \n",
      " 매매34억\n",
      "\n",
      "알파리움1단지(주상복합) 101동 아파트123B/96m², 17/18층, 남동향\n",
      "37 전망,창고,9월14일이후입주 ,판교역세권 \n",
      " 월세1억/450\n",
      "\n",
      "집주인알파리움1단지(주상복합) 105동 아파트180/142m², 중/18층, 남향\n",
      "판교 백현동 알파리움 아파트 매매 판교역 신분당선과 현대백화점 최고 입지 \n",
      " 매매34억\n",
      "\n",
      "집주인알파리움1단지(주상복합) 103동 아파트163C/129m², 고/18층, 남동향\n",
      "49 방4 맞바람구조 트인전망 강남권 판교에투자하세요 \n",
      " 매매30억\n",
      "\n"
     ]
    }
   ],
   "source": [
    "# 미션 2. 동 정보와 매물 벙보 전체를 수집하시오.\n",
    "item_titles = browser.find_elements(By.CLASS_NAME, 'item_title')\n",
    "info_areas = browser.find_elements(By.CLASS_NAME, 'info_area')\n",
    "datas = browser.find_elements(By.CLASS_NAME, 'price_line')\n",
    "\n",
    "for title, info_area, data in zip(item_titles, info_areas, datas):\n",
    "    print(title.text, info_area.text , '\\n' , data.text + '\\n')\n",
    "\n",
    "# csv 형태로 저장 => \n"
   ]
  },
  {
   "cell_type": "code",
   "execution_count": 66,
   "id": "361ece50",
   "metadata": {},
   "outputs": [
    {
     "data": {
      "text/html": [
       "<div>\n",
       "<style scoped>\n",
       "    .dataframe tbody tr th:only-of-type {\n",
       "        vertical-align: middle;\n",
       "    }\n",
       "\n",
       "    .dataframe tbody tr th {\n",
       "        vertical-align: top;\n",
       "    }\n",
       "\n",
       "    .dataframe thead th {\n",
       "        text-align: right;\n",
       "    }\n",
       "</style>\n",
       "<table border=\"1\" class=\"dataframe\">\n",
       "  <thead>\n",
       "    <tr style=\"text-align: right;\">\n",
       "      <th></th>\n",
       "      <th>title</th>\n",
       "      <th>info_area</th>\n",
       "      <th>price_line</th>\n",
       "    </tr>\n",
       "  </thead>\n",
       "  <tbody>\n",
       "    <tr>\n",
       "      <th>0</th>\n",
       "      <td>집주인알파리움1단지(주상복합) 101동</td>\n",
       "      <td>아파트123B/96m², 10/18층, 남서향\\n37. 입주가능, 화랑공원뷰, 풀옵션</td>\n",
       "      <td>매매22억 5,000</td>\n",
       "    </tr>\n",
       "    <tr>\n",
       "      <th>1</th>\n",
       "      <td>집주인알파리움1단지(주상복합) 101동</td>\n",
       "      <td>아파트123B/96m², 10/18층, 남서향\\n37 짧은세안고 풀옵션 일조량풍부 ...</td>\n",
       "      <td>매매22억 5,000</td>\n",
       "    </tr>\n",
       "    <tr>\n",
       "      <th>2</th>\n",
       "      <td>집주인알파리움1단지(주상복합) 102동</td>\n",
       "      <td>아파트180/142m², 중/18층, 남향\\n특올수리, 정남향, 전망최고, 세안고</td>\n",
       "      <td>매매35억</td>\n",
       "    </tr>\n",
       "    <tr>\n",
       "      <th>3</th>\n",
       "      <td>집주인알파리움1단지(주상복합) 103동</td>\n",
       "      <td>아파트156A/123m², 저/18층, 남향\\n남향. 정원뷰.시스템에어컨.지하창고유...</td>\n",
       "      <td>전세15억</td>\n",
       "    </tr>\n",
       "    <tr>\n",
       "      <th>4</th>\n",
       "      <td>집주인알파리움1단지(주상복합) 101동</td>\n",
       "      <td>아파트123B/96m², 중/18층, 남서향\\n37. 남서향, 단지정원, 화랑공원전망</td>\n",
       "      <td>매매22억 5,000</td>\n",
       "    </tr>\n",
       "    <tr>\n",
       "      <th>5</th>\n",
       "      <td>집주인알파리움1단지(주상복합) 102동</td>\n",
       "      <td>아파트180/142m², 중/18층, 남향\\n54 방4.최근 화이트인테리어.계절창고...</td>\n",
       "      <td>매매35억</td>\n",
       "    </tr>\n",
       "    <tr>\n",
       "      <th>6</th>\n",
       "      <td>집주인알파리움1단지(주상복합) 101동</td>\n",
       "      <td>아파트123B/96m², 고/18층, 남동향\\n입주가능.입주협의. 전망좋음. 채광좋...</td>\n",
       "      <td>월세1억/450</td>\n",
       "    </tr>\n",
       "    <tr>\n",
       "      <th>7</th>\n",
       "      <td>집주인알파리움1단지(주상복합) 101동</td>\n",
       "      <td>아파트123B/96m², 고/18층, 남동향\\n37. 융자없음, 깨끗하게 관리 잘 ...</td>\n",
       "      <td>월세1억/450</td>\n",
       "    </tr>\n",
       "    <tr>\n",
       "      <th>8</th>\n",
       "      <td>집주인알파리움1단지(주상복합) 103동</td>\n",
       "      <td>아파트156A/123m², 중/18층, 남향\\n47 남향 단지조경조망 채광좋음 풀시...</td>\n",
       "      <td>매매30억</td>\n",
       "    </tr>\n",
       "    <tr>\n",
       "      <th>9</th>\n",
       "      <td>집주인알파리움1단지(주상복합) 104동</td>\n",
       "      <td>아파트140/110m², 중/19층, 서향\\n판교공원전망좋은집 판교ic이용편리 정상입주</td>\n",
       "      <td>매매27억 5,000</td>\n",
       "    </tr>\n",
       "    <tr>\n",
       "      <th>10</th>\n",
       "      <td>집주인알파리움1단지(주상복합) 103동</td>\n",
       "      <td>아파트163C/129m², 고/18층, 남향\\n49 세안고 방4개 공원전망최고 채광...</td>\n",
       "      <td>매매30억</td>\n",
       "    </tr>\n",
       "    <tr>\n",
       "      <th>11</th>\n",
       "      <td>집주인알파리움1단지(주상복합) 102동</td>\n",
       "      <td>아파트180/142m², 저/18층, 남향\\n입주협의 방4 정남향 조망채광굿 주택상...</td>\n",
       "      <td>매매30억</td>\n",
       "    </tr>\n",
       "    <tr>\n",
       "      <th>12</th>\n",
       "      <td>집주인알파리움1단지(주상복합) 105동</td>\n",
       "      <td>아파트180/142m², 중/18층, 남향\\n빠른입주가 입주협의 정남향 특올수리 생...</td>\n",
       "      <td>매매34억</td>\n",
       "    </tr>\n",
       "    <tr>\n",
       "      <th>13</th>\n",
       "      <td>집주인알파리움1단지(주상복합) 104동</td>\n",
       "      <td>아파트156A/123m², 중/19층, 남향\\n47A. 특인테리어, 붙박이장 잘됨,...</td>\n",
       "      <td>월세1억/650</td>\n",
       "    </tr>\n",
       "    <tr>\n",
       "      <th>14</th>\n",
       "      <td>집주인알파리움1단지(주상복합) 104동</td>\n",
       "      <td>아파트156A/123m², 중/19층, 남향\\n입주협의 올수리 볕잘드는남향 시스템에...</td>\n",
       "      <td>월세1억/650</td>\n",
       "    </tr>\n",
       "    <tr>\n",
       "      <th>15</th>\n",
       "      <td>집주인알파리움1단지(주상복합) 103동</td>\n",
       "      <td>아파트156A/123m², 저/18층, 남향\\n남향, 정원뷰 조용한 집, 인테리어 ...</td>\n",
       "      <td>전세15억</td>\n",
       "    </tr>\n",
       "    <tr>\n",
       "      <th>16</th>\n",
       "      <td>집주인알파리움1단지(주상복합) 105동</td>\n",
       "      <td>아파트180/142m², 중/18층, 남향\\n알파리움1단지 로얄동 로얄층 컨디션 좋...</td>\n",
       "      <td>매매34억</td>\n",
       "    </tr>\n",
       "    <tr>\n",
       "      <th>17</th>\n",
       "      <td>알파리움1단지(주상복합) 101동</td>\n",
       "      <td>아파트123B/96m², 17/18층, 남동향\\n37 전망,창고,9월14일이후입주 ...</td>\n",
       "      <td>월세1억/450</td>\n",
       "    </tr>\n",
       "    <tr>\n",
       "      <th>18</th>\n",
       "      <td>집주인알파리움1단지(주상복합) 105동</td>\n",
       "      <td>아파트180/142m², 중/18층, 남향\\n판교 백현동 알파리움 아파트 매매 판교...</td>\n",
       "      <td>매매34억</td>\n",
       "    </tr>\n",
       "    <tr>\n",
       "      <th>19</th>\n",
       "      <td>집주인알파리움1단지(주상복합) 103동</td>\n",
       "      <td>아파트163C/129m², 고/18층, 남동향\\n49 방4 맞바람구조 트인전망 강남...</td>\n",
       "      <td>매매30억</td>\n",
       "    </tr>\n",
       "  </tbody>\n",
       "</table>\n",
       "</div>"
      ],
      "text/plain": [
       "                    title                                          info_area  \\\n",
       "0   집주인알파리움1단지(주상복합) 101동    아파트123B/96m², 10/18층, 남서향\\n37. 입주가능, 화랑공원뷰, 풀옵션   \n",
       "1   집주인알파리움1단지(주상복합) 101동  아파트123B/96m², 10/18층, 남서향\\n37 짧은세안고 풀옵션 일조량풍부 ...   \n",
       "2   집주인알파리움1단지(주상복합) 102동      아파트180/142m², 중/18층, 남향\\n특올수리, 정남향, 전망최고, 세안고   \n",
       "3   집주인알파리움1단지(주상복합) 103동  아파트156A/123m², 저/18층, 남향\\n남향. 정원뷰.시스템에어컨.지하창고유...   \n",
       "4   집주인알파리움1단지(주상복합) 101동    아파트123B/96m², 중/18층, 남서향\\n37. 남서향, 단지정원, 화랑공원전망   \n",
       "5   집주인알파리움1단지(주상복합) 102동  아파트180/142m², 중/18층, 남향\\n54 방4.최근 화이트인테리어.계절창고...   \n",
       "6   집주인알파리움1단지(주상복합) 101동  아파트123B/96m², 고/18층, 남동향\\n입주가능.입주협의. 전망좋음. 채광좋...   \n",
       "7   집주인알파리움1단지(주상복합) 101동  아파트123B/96m², 고/18층, 남동향\\n37. 융자없음, 깨끗하게 관리 잘 ...   \n",
       "8   집주인알파리움1단지(주상복합) 103동  아파트156A/123m², 중/18층, 남향\\n47 남향 단지조경조망 채광좋음 풀시...   \n",
       "9   집주인알파리움1단지(주상복합) 104동   아파트140/110m², 중/19층, 서향\\n판교공원전망좋은집 판교ic이용편리 정상입주   \n",
       "10  집주인알파리움1단지(주상복합) 103동  아파트163C/129m², 고/18층, 남향\\n49 세안고 방4개 공원전망최고 채광...   \n",
       "11  집주인알파리움1단지(주상복합) 102동  아파트180/142m², 저/18층, 남향\\n입주협의 방4 정남향 조망채광굿 주택상...   \n",
       "12  집주인알파리움1단지(주상복합) 105동  아파트180/142m², 중/18층, 남향\\n빠른입주가 입주협의 정남향 특올수리 생...   \n",
       "13  집주인알파리움1단지(주상복합) 104동  아파트156A/123m², 중/19층, 남향\\n47A. 특인테리어, 붙박이장 잘됨,...   \n",
       "14  집주인알파리움1단지(주상복합) 104동  아파트156A/123m², 중/19층, 남향\\n입주협의 올수리 볕잘드는남향 시스템에...   \n",
       "15  집주인알파리움1단지(주상복합) 103동  아파트156A/123m², 저/18층, 남향\\n남향, 정원뷰 조용한 집, 인테리어 ...   \n",
       "16  집주인알파리움1단지(주상복합) 105동  아파트180/142m², 중/18층, 남향\\n알파리움1단지 로얄동 로얄층 컨디션 좋...   \n",
       "17     알파리움1단지(주상복합) 101동  아파트123B/96m², 17/18층, 남동향\\n37 전망,창고,9월14일이후입주 ...   \n",
       "18  집주인알파리움1단지(주상복합) 105동  아파트180/142m², 중/18층, 남향\\n판교 백현동 알파리움 아파트 매매 판교...   \n",
       "19  집주인알파리움1단지(주상복합) 103동  아파트163C/129m², 고/18층, 남동향\\n49 방4 맞바람구조 트인전망 강남...   \n",
       "\n",
       "     price_line  \n",
       "0   매매22억 5,000  \n",
       "1   매매22억 5,000  \n",
       "2         매매35억  \n",
       "3         전세15억  \n",
       "4   매매22억 5,000  \n",
       "5         매매35억  \n",
       "6      월세1억/450  \n",
       "7      월세1억/450  \n",
       "8         매매30억  \n",
       "9   매매27억 5,000  \n",
       "10        매매30억  \n",
       "11        매매30억  \n",
       "12        매매34억  \n",
       "13     월세1억/650  \n",
       "14     월세1억/650  \n",
       "15        전세15억  \n",
       "16        매매34억  \n",
       "17     월세1억/450  \n",
       "18        매매34억  \n",
       "19        매매30억  "
      ]
     },
     "execution_count": 66,
     "metadata": {},
     "output_type": "execute_result"
    }
   ],
   "source": [
    "# 미션 2. 동 정보와 매물 벙보 전체를 수집하시오.\n",
    "import pandas as pd\n",
    "\n",
    "item_titles = browser.find_elements(By.CLASS_NAME, 'item_title')\n",
    "info_areas = browser.find_elements(By.CLASS_NAME, 'info_area')\n",
    "datas = browser.find_elements(By.CLASS_NAME, 'price_line')\n",
    "\n",
    "rows = []\n",
    "for title, info_area, data in zip(item_titles, info_areas, datas):\n",
    "    rows.append({\n",
    "        'title': title.text,\n",
    "        'info_area': info_area.text,\n",
    "        'price_line': data.text\n",
    "    })\n",
    "\n",
    "df = pd.DataFrame(rows)\n",
    "df.to_csv('naver_real_estate_data.csv', index=False, encoding='utf-8-sig')\n",
    "\n",
    "# csv 형태로 저장 => \n",
    "df\n"
   ]
  },
  {
   "cell_type": "code",
   "execution_count": 73,
   "id": "6cddd244",
   "metadata": {},
   "outputs": [],
   "source": [
    "from selenium.webdriver.common.keys import Keys\n",
    "\n",
    "search_box = browser.find_element(By.CLASS_NAME, 'search_input')\n",
    "search_box.clear()\n",
    "search_box.send_keys('판교푸르지오월드마크')\n",
    "search_box.send_keys(Keys.ENTER)\n",
    "\n"
   ]
  },
  {
   "cell_type": "code",
   "execution_count": 74,
   "id": "0bc7f6da",
   "metadata": {},
   "outputs": [
    {
     "name": "stdout",
     "output_type": "stream",
     "text": [
      "판교 검색 결과 상위 5개 매물:\n",
      "[1] 집주인판교푸르지오월드마크(주상복합) 2동\n",
      "아파트168/134m², 4/20층, 남향\n",
      "씨티뷰좋은인테리어예쁜집 판교역초역세권 보평학군\n",
      "매매28억\n",
      "\n",
      "[2] 집주인판교푸르지오월드마크(주상복합) 2동\n",
      "아파트168/134m², 4/20층, 남서향\n",
      "49 최신인테리어, 입주가능, 로얄동, 판교역 초역세권\n",
      "매매28억\n",
      "\n",
      "[3] 집주인판교푸르지오월드마크(주상복합) 1동\n",
      "아파트168/134m², 6/20층, 남향\n",
      "인기있는 구조로 교통과 생활여건이 아주 편리함\n",
      "매매29억\n",
      "\n",
      "[4] 집주인판교푸르지오월드마크(주상복합) 2동\n",
      "아파트168/134m², 4/20층, 남향\n",
      "교통과 생활여건이 아주 좋으며 정상입주 가능함\n",
      "매매28억\n",
      "\n",
      "[5] 집주인판교푸르지오월드마크(주상복합) 2동\n",
      "아파트160A/127m², 중/20층, 동향\n",
      "판교역럭셔리주상복합아파트 전망좋은라인 늦은정상입주\n",
      "매매29억\n",
      "\n"
     ]
    }
   ],
   "source": [
    "# '판교'로 검색해서 나오는 집 리스트 중에 상위 5개 매물씩 보여주기\n",
    "\n",
    "from selenium.webdriver.common.by import By\n",
    "from selenium.webdriver.common.keys import Keys\n",
    "import time\n",
    "\n",
    "# 검색창에 '판교' 입력 후 검색\n",
    "search_box = browser.find_element(By.CLASS_NAME, 'search_input')\n",
    "search_box.clear()\n",
    "search_box.send_keys('판교')\n",
    "search_box.send_keys(Keys.ENTER)\n",
    "\n",
    "# 검색 결과가 로드될 때까지 잠시 대기 (필요에 따라 조정)\n",
    "time.sleep(2)\n",
    "\n",
    "# 상위 5개 매물 정보 추출\n",
    "item_titles = browser.find_elements(By.CLASS_NAME, 'item_title')[:5]\n",
    "info_areas = browser.find_elements(By.CLASS_NAME, 'info_area')[:5]\n",
    "datas = browser.find_elements(By.CLASS_NAME, 'price_line')[:5]\n",
    "\n",
    "print(\"판교 검색 결과 상위 5개 매물:\")\n",
    "for idx, (title, info_area, data) in enumerate(zip(item_titles, info_areas, datas), 1):\n",
    "    print(f\"[{idx}] {title.text}\\n{info_area.text}\\n{data.text}\\n\")\n"
   ]
  }
 ],
 "metadata": {
  "kernelspec": {
   "display_name": "Python 3",
   "language": "python",
   "name": "python3"
  },
  "language_info": {
   "codemirror_mode": {
    "name": "ipython",
    "version": 3
   },
   "file_extension": ".py",
   "mimetype": "text/x-python",
   "name": "python",
   "nbconvert_exporter": "python",
   "pygments_lexer": "ipython3",
   "version": "3.12.10"
  }
 },
 "nbformat": 4,
 "nbformat_minor": 5
}
